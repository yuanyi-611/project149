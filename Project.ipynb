{
 "cells": [
  {
   "cell_type": "markdown",
   "metadata": {},
   "source": [
    "                                                     Final Project\n",
    "Purpose of the project：\n",
    "\n",
    "This project will try to examine how income level evolves in LA. and how it corresponds with the income inequality since the 2000s. In this project, we will study if there exists a positive, negative, or no relationship between regional income inequality and economic growth by analyzing the data of household income, total population, and GDP. Since there are many studies already showing the impact of income inequality such as higher rates of health and social problems, we want to think more about the effect on the level of economic growth.\n"
   ]
  },
  {
   "cell_type": "markdown",
   "metadata": {},
   "source": [
    "Project structure：\n",
    "\n",
    "The first part is the introduction of where the data comes from and how to access the data.\n",
    "\n",
    "Second, the project will provide statistics on median household income in LA and illustrate how wealth is spread causing income equality over time. It may also contain visual graphs to visually inspect different interesting events at different times.\n",
    "\n",
    "Moreover, we will provide a data report of the GDP growth in the content of the LA population.\n",
    "\n",
    "Lastly, a hypothesis will be tested and compared with the previous academic conclusions. The project will provide further analysis by calculating and comparing the data and plotting it to identify relationships.\n"
   ]
  },
  {
   "cell_type": "markdown",
   "metadata": {},
   "source": [
    "Data report：\n",
    "\n",
    "Overview of the data:\n",
    "\n",
    "The data for this project comes from the Federal Reserve Economic Data website (FRED).\n",
    "As mentioned above, their regional accounts data provides access to measures of economic activity in\n",
    "\n",
    "-detailed date of mean and median household income and household income growth rate ratio data.\n",
    "\n",
    "-GDP growth rate ratio and household income growth rate ratio.\n",
    "\n",
    "The data can be accessed at https://fred.stlouisfed.org.\n",
    "\n",
    "\n",
    "\n",
    "Key Variables:\n",
    "\n",
    "The key series that I must retrieve is Median household income which is defined as :\n",
    "\n",
    "“The median income is the income amount that divides a population into two equal groups, half having an income above that amount, and half having an income below that amount. It may differ from the mean (or average) income. The income that occurs most frequently is the income mode. Each of these is a way of understanding income distribution. Median income can be calculated by household income, by personal income, or for specific demographic groups.”\n",
    " \n",
    "Besides, we will also use the US GDP to see the relationship with the Median household income change rate and GDP is defined as:\n",
    "\n",
    "Gross domestic product (GDP) is the standard measure of the value added created through the production of goods and services in a country during a certain period. As such, it also measures the income earned from that production, or the total amount spent on final goods and services (less imports).\n",
    "\n",
    "And we will use the Human capital and Residents population in L.A. to help us in the project.\n",
    "\n",
    "Human capital: Human capital is an intangible asset or quality not listed on a company's balance sheet. It can be classified as the economic value of a worker's experience and skills. This includes assets like education, training, intelligence, skills, health, and other things employers value such as loyalty and punctuality.\n",
    "\n",
    "Residents population: we will also download Resident Population in Los Angeles County, CA. According to FRED, Population estimates are updated annually using current data on births, deaths, and migration to calculate population change since the most recent decennial census. The annual time series of estimates begins with the most recent decennial census data and extends to the vintage year. Each vintage of estimates includes all years since the most recent decennial census.\n",
    "\n"
   ]
  },
  {
   "cell_type": "code",
   "execution_count": null,
   "metadata": {},
   "outputs": [],
   "source": []
  }
 ],
 "metadata": {
  "kernelspec": {
   "display_name": "Python 3",
   "language": "python",
   "name": "python3"
  },
  "language_info": {
   "codemirror_mode": {
    "name": "ipython",
    "version": 3
   },
   "file_extension": ".py",
   "mimetype": "text/x-python",
   "name": "python",
   "nbconvert_exporter": "python",
   "pygments_lexer": "ipython3",
   "version": "3.8.3"
  }
 },
 "nbformat": 4,
 "nbformat_minor": 4
}
