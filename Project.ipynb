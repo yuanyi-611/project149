{
 "cells": [
  {
   "cell_type": "markdown",
   "metadata": {},
   "source": [
    "                                                     Final Project\n",
    "Project overview: \n",
    "\n",
    "This project will try to examine how income level evolves in the U.S. and how it corresponds with the income inequality since the 2000s. In this project, we will study if there exists a positive, negative, or no relationship between regional income inequality and economic growth by analyzing the data of household income, total population, and GDP. Since there are many studies already showing the impact of income inequality such as higher rates of health and social problems, we want to think more about the effect on the level of economic growth."
   ]
  },
  {
   "cell_type": "markdown",
   "metadata": {},
   "source": [
    "Project structure: \n",
    "\n",
    "The first part is the introduction of where the data comes from and how to access the data.\n",
    "\n",
    "Second, the project will provide statistics on median household income and illustrate how wealth is spread causing income equality over time. It may also contain visual graphs to visually inspect different interesting events at different times. \n",
    "\n",
    "Moreover, we will provide a data report of the GDP growth in the content of the total population.\n",
    "\n",
    "Lastly, a hypothesis will be tested and compared with the previous academic conclusions. The project will provide further analysis by calculating and comparing the data and plotting it to identify relationships. \n"
   ]
  },
  {
   "cell_type": "markdown",
   "metadata": {},
   "source": [
    "Data report：\n",
    "\n"
   ]
  },
  {
   "cell_type": "code",
   "execution_count": null,
   "metadata": {},
   "outputs": [],
   "source": []
  }
 ],
 "metadata": {
  "kernelspec": {
   "display_name": "Python 3",
   "language": "python",
   "name": "python3"
  },
  "language_info": {
   "codemirror_mode": {
    "name": "ipython",
    "version": 3
   },
   "file_extension": ".py",
   "mimetype": "text/x-python",
   "name": "python",
   "nbconvert_exporter": "python",
   "pygments_lexer": "ipython3",
   "version": "3.8.3"
  }
 },
 "nbformat": 4,
 "nbformat_minor": 4
}
